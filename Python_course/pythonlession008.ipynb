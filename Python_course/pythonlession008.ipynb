{
 "cells": [
  {
   "cell_type": "code",
   "execution_count": 3,
   "metadata": {},
   "outputs": [
    {
     "name": "stdout",
     "output_type": "stream",
     "text": [
      "A medida de 2.5m corresponde a 250cm e 2500mm\n"
     ]
    }
   ],
   "source": [
    "medida = float(input('Uma distância em metros: '))\n",
    "cm = medida * 100\n",
    "mm = medida * 1000\n",
    "\n",
    "print('A medida de {}m corresponde a {:.0f}cm e {:.0f}mm'.format(medida, cm, mm))\n"
   ]
  }
 ],
 "metadata": {
  "kernelspec": {
   "display_name": "Python 3",
   "language": "python",
   "name": "python3"
  },
  "language_info": {
   "codemirror_mode": {
    "name": "ipython",
    "version": 3
   },
   "file_extension": ".py",
   "mimetype": "text/x-python",
   "name": "python",
   "nbconvert_exporter": "python",
   "pygments_lexer": "ipython3",
   "version": "3.12.4"
  }
 },
 "nbformat": 4,
 "nbformat_minor": 2
}
