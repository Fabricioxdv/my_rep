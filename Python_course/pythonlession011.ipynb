{
 "cells": [
  {
   "cell_type": "code",
   "execution_count": null,
   "metadata": {},
   "outputs": [
    {
     "name": "stdout",
     "output_type": "stream",
     "text": [
      "Sua parede tem a dimensão de 2.35 x 1.25 equivale em metros quadrados à 2.938 m²\n",
      "Para pintar essa parede você precisará de 1.469L de tinta\n"
     ]
    }
   ],
   "source": [
    "largura = float(input('Digite a largura da parede: '))\n",
    "altura = float(input('Digite a altura da parede: '))\n",
    "\n",
    "area = largura * altura\n",
    "\n",
    "tinta = area / 2\n",
    "\n",
    "print('Sua parede tem a dimensão de {:.2f} x {:.2f} equivale em metros quadrados à {:.3f} m²'.format(largura, altura, area))\n",
    "\n",
    "print('Para pintar essa parede você precisará de {:.3f}L de tinta'.format(tinta))\n"
   ]
  }
 ],
 "metadata": {
  "kernelspec": {
   "display_name": "Python 3",
   "language": "python",
   "name": "python3"
  },
  "language_info": {
   "codemirror_mode": {
    "name": "ipython",
    "version": 3
   },
   "file_extension": ".py",
   "mimetype": "text/x-python",
   "name": "python",
   "nbconvert_exporter": "python",
   "pygments_lexer": "ipython3",
   "version": "3.12.4"
  }
 },
 "nbformat": 4,
 "nbformat_minor": 2
}
