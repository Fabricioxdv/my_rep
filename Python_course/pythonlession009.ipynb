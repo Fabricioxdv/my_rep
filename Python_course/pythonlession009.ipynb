{
 "cells": [
  {
   "cell_type": "markdown",
   "metadata": {},
   "source": [
    "### Solução 1"
   ]
  },
  {
   "cell_type": "code",
   "execution_count": null,
   "metadata": {},
   "outputs": [
    {
     "name": "stdout",
     "output_type": "stream",
     "text": [
      "A tabuada de 5 é :\n",
      "------------\n",
      "5 x  1 =  5\n",
      "5 x  2 = 10\n",
      "5 x  3 = 15\n",
      "5 x  4 = 20\n",
      "5 x  5 = 25\n",
      "5 x  6 = 30\n",
      "5 x  7 = 35\n",
      "5 x  8 = 40\n",
      "5 x  9 = 45\n",
      "5 x 10 = 50\n",
      "------------\n"
     ]
    }
   ],
   "source": [
    "numero = int(input('Digite um número para ver a tabuada: '))\n",
    "x = 0\n",
    "print('A tabuada de {} é :'.format(numero))\n",
    "print('-'*12)\n",
    "\n",
    "while x < 10:\n",
    "    x += 1\n",
    "    print('{} x {:2} = {:2}'.format(numero, x, (numero*x)))\n",
    "    \n",
    "print('-'*12)"
   ]
  },
  {
   "cell_type": "markdown",
   "metadata": {},
   "source": [
    "### Solução 2"
   ]
  },
  {
   "cell_type": "code",
   "execution_count": 29,
   "metadata": {},
   "outputs": [
    {
     "name": "stdout",
     "output_type": "stream",
     "text": [
      "------------\n",
      "5 X  1 = 5\n",
      "5 X  2 = 10\n",
      "5 X  3 = 15\n",
      "5 X  4 = 20\n",
      "5 X  5 = 25\n",
      "5 X  6 = 30\n",
      "5 X  7 = 35\n",
      "5 X  8 = 40\n",
      "5 X  9 = 45\n",
      "5 X 10 = 50\n",
      "------------\n"
     ]
    }
   ],
   "source": [
    "num = int(input('Digite um número para ver sua tabuada: '))\n",
    "print('-'*12)\n",
    "print('{} X {:2} = {}'.format(num, 1, (num*1)))\n",
    "print('{} X {:2} = {}'.format(num, 2, (num*2)))\n",
    "print('{} X {:2} = {}'.format(num, 3, (num*3)))\n",
    "print('{} X {:2} = {}'.format(num, 4, (num*4)))\n",
    "print('{} X {:2} = {}'.format(num, 5, (num*5)))\n",
    "print('{} X {:2} = {}'.format(num, 6, (num*6)))\n",
    "print('{} X {:2} = {}'.format(num, 7, (num*7)))\n",
    "print('{} X {:2} = {}'.format(num, 8, (num*8)))\n",
    "print('{} X {:2} = {}'.format(num, 9, (num*9)))\n",
    "print('{} X {:2} = {}'.format(num, 10, (num*10)))\n",
    "print('-'*12)"
   ]
  }
 ],
 "metadata": {
  "kernelspec": {
   "display_name": "Python 3",
   "language": "python",
   "name": "python3"
  },
  "language_info": {
   "codemirror_mode": {
    "name": "ipython",
    "version": 3
   },
   "file_extension": ".py",
   "mimetype": "text/x-python",
   "name": "python",
   "nbconvert_exporter": "python",
   "pygments_lexer": "ipython3",
   "version": "3.12.4"
  }
 },
 "nbformat": 4,
 "nbformat_minor": 2
}
