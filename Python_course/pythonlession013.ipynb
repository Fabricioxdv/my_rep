{
 "cells": [
  {
   "cell_type": "markdown",
   "metadata": {},
   "source": [
    "### Solução 1"
   ]
  },
  {
   "cell_type": "code",
   "execution_count": 8,
   "metadata": {},
   "outputs": [
    {
     "name": "stdout",
     "output_type": "stream",
     "text": [
      "O funcionário que recebia R$ 4319.43, com o aumento de 15% irá receber R$ 4967.34\n"
     ]
    }
   ],
   "source": [
    "salario = float(input('Digite o salario do funcionário R$: '))\n",
    "\n",
    "aumento = (salario * 0.15) + salario\n",
    "\n",
    "print('O funcionário que recebia R$ {:.2f}, com o aumento de 15%' ' irá receber R$ {:.2f}'.format(salario, aumento))"
   ]
  },
  {
   "cell_type": "markdown",
   "metadata": {},
   "source": [
    "### Solução 2"
   ]
  },
  {
   "cell_type": "code",
   "execution_count": 11,
   "metadata": {},
   "outputs": [
    {
     "name": "stdout",
     "output_type": "stream",
     "text": [
      "O funcionário que recebia R$ 4319.43, com o aumento de 15% irá receber R$ 4967.34\n"
     ]
    }
   ],
   "source": [
    "salario =  float(input('Digite o salário do funcionário R$: '))\n",
    "\n",
    "aumento = (salario * 15 / 100) + salario\n",
    "\n",
    "print('O funcionário que recebia R$ {:.2f}, com o aumento de 15%' ' irá receber R$ {:.2f}'.format(salario, aumento))"
   ]
  }
 ],
 "metadata": {
  "kernelspec": {
   "display_name": "Python 3",
   "language": "python",
   "name": "python3"
  },
  "language_info": {
   "codemirror_mode": {
    "name": "ipython",
    "version": 3
   },
   "file_extension": ".py",
   "mimetype": "text/x-python",
   "name": "python",
   "nbconvert_exporter": "python",
   "pygments_lexer": "ipython3",
   "version": "3.12.4"
  }
 },
 "nbformat": 4,
 "nbformat_minor": 2
}
