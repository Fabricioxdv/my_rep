{
 "cells": [
  {
   "cell_type": "markdown",
   "metadata": {},
   "source": [
    "# Conversor de temperatura"
   ]
  },
  {
   "cell_type": "code",
   "execution_count": null,
   "metadata": {},
   "outputs": [
    {
     "name": "stdout",
     "output_type": "stream",
     "text": [
      "A temperatura de 45.0°C Celsius, equivale a 113.00°F fahrenheit e 318.15K kelvin.\n"
     ]
    }
   ],
   "source": [
    "temp = float(input('Digite a temperatura em °C'))\n",
    "\n",
    "K = temp + 273.15 \n",
    "F = (temp * 1.8) + 32\n",
    "\n",
    "print('A temperatura de {}°C Celsius, equivale a {:.1f}°F fahrenheit e {:.2f}K kelvin.'.format(temp, F, K))"
   ]
  }
 ],
 "metadata": {
  "kernelspec": {
   "display_name": "Python 3",
   "language": "python",
   "name": "python3"
  },
  "language_info": {
   "codemirror_mode": {
    "name": "ipython",
    "version": 3
   },
   "file_extension": ".py",
   "mimetype": "text/x-python",
   "name": "python",
   "nbconvert_exporter": "python",
   "pygments_lexer": "ipython3",
   "version": "3.12.4"
  }
 },
 "nbformat": 4,
 "nbformat_minor": 2
}
