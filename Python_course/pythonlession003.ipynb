{
 "cells": [
  {
   "cell_type": "markdown",
   "metadata": {},
   "source": [
    "## Aula 03"
   ]
  },
  {
   "cell_type": "code",
   "execution_count": 2,
   "metadata": {},
   "outputs": [
    {
     "name": "stdout",
     "output_type": "stream",
     "text": [
      "A soma entre 1 e 203 é igual a 204!\n"
     ]
    }
   ],
   "source": [
    "n1 = int(input('Digite um valor: '))  # lembrar de colocar o tipo primitivo.\n",
    "n2 = int(input('Digite outro valor: '))\n",
    "\n",
    "s1 = n1 + n2\n",
    "\n",
    "print('A soma entre {} e {} é igual a {}!'.format(n1, n2, s1))"
   ]
  }
 ],
 "metadata": {
  "kernelspec": {
   "display_name": "Python 3",
   "language": "python",
   "name": "python3"
  },
  "language_info": {
   "codemirror_mode": {
    "name": "ipython",
    "version": 3
   },
   "file_extension": ".py",
   "mimetype": "text/x-python",
   "name": "python",
   "nbconvert_exporter": "python",
   "pygments_lexer": "ipython3",
   "version": "3.12.4"
  }
 },
 "nbformat": 4,
 "nbformat_minor": 2
}
