{
 "cells": [
  {
   "cell_type": "markdown",
   "metadata": {},
   "source": [
    "## Calculo preço do aluguel"
   ]
  },
  {
   "cell_type": "code",
   "execution_count": null,
   "metadata": {},
   "outputs": [
    {
     "name": "stdout",
     "output_type": "stream",
     "text": [
      "O total a pagar é R$588.00\n"
     ]
    }
   ],
   "source": [
    "dias = int(input('Quantos dias o veículo foi alugado?'))\n",
    "\n",
    "km = int(input('Quantos km rodados?'))\n",
    "\n",
    "preco = (dias * 60) + (km * 0.15)\n",
    "\n",
    "print('O total a pagar é R${:.2f}'.format(preco))"
   ]
  }
 ],
 "metadata": {
  "kernelspec": {
   "display_name": "Python 3",
   "language": "python",
   "name": "python3"
  },
  "language_info": {
   "codemirror_mode": {
    "name": "ipython",
    "version": 3
   },
   "file_extension": ".py",
   "mimetype": "text/x-python",
   "name": "python",
   "nbconvert_exporter": "python",
   "pygments_lexer": "ipython3",
   "version": "3.12.4"
  }
 },
 "nbformat": 4,
 "nbformat_minor": 2
}
