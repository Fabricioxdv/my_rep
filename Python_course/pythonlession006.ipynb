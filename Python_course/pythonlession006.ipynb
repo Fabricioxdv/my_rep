{
 "cells": [
  {
   "cell_type": "code",
   "execution_count": 2,
   "metadata": {},
   "outputs": [
    {
     "name": "stdout",
     "output_type": "stream",
     "text": [
      "O dobro de 23 vale 46 \n",
      "O triplo de 23 vale 69 \n",
      "A raiz quadrada de 23 vale 4.8\n"
     ]
    }
   ],
   "source": [
    "n = int(input('Digite um número: '))\n",
    "\n",
    "# raiz quadrada do valor\n",
    "raiz = round(float(n ** 0.5), 2)\n",
    "\n",
    "print('O dobro de {} vale {} '.format(n, (n*2)))\n",
    "print('O triplo de {} vale {} '.format(n, (n*3)))\n",
    "print('A raiz quadrada de {} vale {}'.format(n, raiz))\n"
   ]
  }
 ],
 "metadata": {
  "kernelspec": {
   "display_name": "Python 3",
   "language": "python",
   "name": "python3"
  },
  "language_info": {
   "codemirror_mode": {
    "name": "ipython",
    "version": 3
   },
   "file_extension": ".py",
   "mimetype": "text/x-python",
   "name": "python",
   "nbconvert_exporter": "python",
   "pygments_lexer": "ipython3",
   "version": "3.12.4"
  }
 },
 "nbformat": 4,
 "nbformat_minor": 2
}
