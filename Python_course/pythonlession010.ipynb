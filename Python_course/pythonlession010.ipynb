{
 "cells": [
  {
   "cell_type": "markdown",
   "metadata": {},
   "source": [
    "### Solução 1"
   ]
  },
  {
   "cell_type": "code",
   "execution_count": null,
   "metadata": {},
   "outputs": [
    {
     "name": "stdout",
     "output_type": "stream",
     "text": [
      "Com R$ 24.32 você pode comprar US$ 7.44 dolares\n"
     ]
    }
   ],
   "source": [
    "# Considere US$ 1 a R$ 3,27\n",
    "\n",
    "money =  float(input('Quanto dinheiro você tem na carteira? R$'))\n",
    "\n",
    "conversao = money / 3.27\n",
    "\n",
    "print('Com R$ {:.2f} você pode comprar US$ {:.2f} dolares'.format(money, conversao))"
   ]
  }
 ],
 "metadata": {
  "kernelspec": {
   "display_name": "Python 3",
   "language": "python",
   "name": "python3"
  },
  "language_info": {
   "codemirror_mode": {
    "name": "ipython",
    "version": 3
   },
   "file_extension": ".py",
   "mimetype": "text/x-python",
   "name": "python",
   "nbconvert_exporter": "python",
   "pygments_lexer": "ipython3",
   "version": "3.12.4"
  }
 },
 "nbformat": 4,
 "nbformat_minor": 2
}
