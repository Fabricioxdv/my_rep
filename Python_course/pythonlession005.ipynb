{
 "cells": [
  {
   "cell_type": "code",
   "execution_count": 1,
   "metadata": {},
   "outputs": [
    {
     "name": "stdout",
     "output_type": "stream",
     "text": [
      "O sucessor de 22 é 23 e seu antecessor é 21\n"
     ]
    }
   ],
   "source": [
    "# versão com variáveis\n",
    "\n",
    "s =  int(input('Digite um número: '))\n",
    "\n",
    "p = s + 1\n",
    "n = s - 1\n",
    "\n",
    "print('O sucessor de {} é {} e seu antecessor é {}'.format(s,p,n))"
   ]
  },
  {
   "cell_type": "markdown",
   "metadata": {},
   "source": [
    "## Versão sem as variáveis"
   ]
  },
  {
   "cell_type": "code",
   "execution_count": 2,
   "metadata": {},
   "outputs": [
    {
     "name": "stdout",
     "output_type": "stream",
     "text": [
      "O sucessor de 22 é 23 e seu antecessor é 21\n"
     ]
    }
   ],
   "source": [
    "s =  int(input('Digite um número: '))\n",
    "\n",
    "print('O sucessor de {} é {} e seu antecessor é {}'.format(s,(s+1),(s-1)))"
   ]
  }
 ],
 "metadata": {
  "kernelspec": {
   "display_name": "Python 3",
   "language": "python",
   "name": "python3"
  },
  "language_info": {
   "codemirror_mode": {
    "name": "ipython",
    "version": 3
   },
   "file_extension": ".py",
   "mimetype": "text/x-python",
   "name": "python",
   "nbconvert_exporter": "python",
   "pygments_lexer": "ipython3",
   "version": "3.12.4"
  }
 },
 "nbformat": 4,
 "nbformat_minor": 2
}
